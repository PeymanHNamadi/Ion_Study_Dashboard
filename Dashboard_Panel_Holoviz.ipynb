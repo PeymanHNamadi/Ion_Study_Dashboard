{
 "cells": [
  {
   "cell_type": "code",
   "execution_count": 4,
   "metadata": {},
   "outputs": [],
   "source": [
    "import numpy as np\n",
    "import pandas as pd\n",
    "import panel as pn\n",
    "import joblib\n",
    "import keras\n",
    "import hvplot.pandas\n",
    "import holoviews as hv"
   ]
  },
  {
   "cell_type": "code",
   "execution_count": 5,
   "metadata": {},
   "outputs": [],
   "source": [
    "def Ion_Simulator(EC, Sacramento_X2,Ion, WYT, Location, month):\n",
    "    X= pd.DataFrame(columns=['EC', 'Sacramento X2', 'AN', 'BN', 'C', 'D', 'W', 'OMR', 'SJRcorridor', 'SouthDelta', 'April', 'August', 'December', 'February', 'January', 'July', 'June', 'March', 'May', 'November', 'October', 'September'])\n",
    "\n",
    "    X.loc[0,\"EC\"]=(EC -50)/(3500-50)\n",
    "    X.loc[0,'Sacramento X2']=Sacramento_X2/100\n",
    "    X.loc[0,'AN']=1 if WYT==\"AN\" else 0\n",
    "    X.loc[0,'BN']=1 if WYT==\"BN\" else 0\n",
    "    X.loc[0,'C']=1 if WYT==\"C\" else 0\n",
    "    X.loc[0,'D']=1 if WYT==\"D\" else 0\n",
    "    X.loc[0,'W']=1 if WYT==\"W\" else 0\n",
    "\n",
    "    X.loc[0,'OMR']=1 if Location==\"OMR\" else 0\n",
    "    X.loc[0,'SJRcorridor']=1 if Location==\"SJRcorridor\" else 0\n",
    "    X.loc[0,'SouthDelta']=1 if Location==\"SouthDelta\" else 0\n",
    "\n",
    "    X.loc[0,'April']=1 if month==\"April\" else 0\n",
    "    X.loc[0,'August']=1 if month==\"August\" else 0\n",
    "    X.loc[0,'December']=1 if month==\"December\" else 0\n",
    "    X.loc[0,'February']=1 if month==\"February\" else 0\n",
    "    X.loc[0,'January']=1 if month==\"January\" else 0\n",
    "    X.loc[0,'July']=1 if month==\"July\" else 0\n",
    "    X.loc[0,'June']=1 if month==\"June\" else 0\n",
    "    X.loc[0,'March']=1 if month==\"March\" else 0\n",
    "    X.loc[0,'May']=1 if month==\"May\" else 0\n",
    "    X.loc[0,'November']=1 if month==\"November\" else 0\n",
    "    X.loc[0,'October']=1 if month==\"October\" else 0\n",
    "    X.loc[0,'September']=1 if month==\"September\" else 0\n",
    "\n",
    "    ANN_final= keras.models.load_model(f'Models/ANN_{Ion}.h5')\n",
    "    import joblib\n",
    "    MLR_final=joblib.load(filename=f'Models/MLR_{Ion}.pkl')\n",
    "    RT_final =joblib.load(filename=f'Models/RT_{Ion}.pkl')\n",
    "    RF_final =joblib.load(filename=f'Models/RF_{Ion}.pkl')\n",
    "    GB_final =joblib.load(filename=f'Models/GB_{Ion}.pkl')\n",
    "\n",
    "    X1=X.astype(float)\n",
    "\n",
    "    df= pd.DataFrame(columns=['MLR', 'RT','GB', 'RF', 'ANN'])\n",
    "    df.loc[0,'MLR']=round(MLR_final.predict(X1)[0],2)\n",
    "    df.loc[0,'RT']=round(RT_final.predict(X1)[0],2)\n",
    "    df.loc[0,'GB']=round(GB_final.predict(X1)[0],2)\n",
    "    df.loc[0,'RF']=round(RF_final.predict(X1)[0],2)\n",
    "    df.loc[0,'ANN']=round(ANN_final.predict(X1)[0][0].astype(float),2)\n",
    "    result = df\n",
    "\n",
    "\n",
    "    return result\n",
    "\n",
    "\n"
   ]
  },
  {
   "cell_type": "code",
   "execution_count": null,
   "metadata": {},
   "outputs": [
    {
     "name": "stdout",
     "output_type": "stream",
     "text": [
      "Launching server at http://localhost:49992\n"
     ]
    },
    {
     "data": {
      "text/plain": [
       "<panel.io.server.Server at 0x1f198781908>"
      ]
     },
     "execution_count": 6,
     "metadata": {},
     "output_type": "execute_result"
    },
    {
     "name": "stdout",
     "output_type": "stream",
     "text": [
      "1/1 [==============================] - 0s 56ms/step\n",
      "1/1 [==============================] - 0s 50ms/step\n",
      "1/1 [==============================] - 0s 55ms/step\n"
     ]
    }
   ],
   "source": [
    "# Define the input widgets for the dashboard\n",
    "EC = pn.widgets.FloatSlider(name='EC', start=100, end=3500, value=200)\n",
    "Sacramento_X2 = pn.widgets.FloatSlider(name='Sacramento_X2', start=0, end=100, value=90)\n",
    "Ion = pn.widgets.Select(name='Ion', options=['Alkalinity','Br','Ca', 'Cl', 'K', 'Mg','Na', 'SO4','TDS'], value='Ca')\n",
    "WYT = pn.widgets.Select(name='WYT', options=['AN', 'BN', 'C', 'D', 'W'], value='AN')\n",
    "Location = pn.widgets.Select(name='Location', options=['OMR', 'SJRcorridor', 'SouthDelta'], value='OMR')\n",
    "month = pn.widgets.Select(name='Month', options=['January', 'February', 'March', 'April', 'May', 'June', 'July', 'August', 'September', 'October', 'November', 'December'], value='September')\n",
    "\n",
    "# Define the function to compute the ion simulator and generate the output plot\n",
    "def compute_ion_simulator(event):\n",
    "    # Call the Ion_Simulator function with the current widget values\n",
    "    result = Ion_Simulator(EC.value, Sacramento_X2.value,Ion.value, WYT.value, Location.value, month.value)\n",
    "    \n",
    "    # Create a bar chart of the resulting predictions\n",
    "    data={\n",
    "        \"Models\": list(result.columns),\n",
    "        'Simulation':list(result.iloc[0])\n",
    "    }\n",
    "    result2=pd.DataFrame(data)\n",
    "    ion_name = Ion.value\n",
    "    bar_chart = result2.hvplot.bar(x='Models', y='Simulation', xlabel='Machine Learning models', ylabel=f'{ion_name} [mg/L]')\n",
    "    output_plot.object = bar_chart\n",
    "\n",
    "# Create the output plot object\n",
    "output_plot = pn.pane.HoloViews()\n",
    "\n",
    "# Markdown pane to display the dashboard explanation\n",
    "instructions = pn.pane.Markdown(\"\"\"\n",
    "## Ion Simulator Dashboard\n",
    "\n",
    "This dashboard allows you to simulate ion concentrations based on various input parameters. Use the sliders and dropdown menus to select the desired values for EC, Sacramento_X2, Ion, WYT, Location, and Month. Then click the 'Compute' button to generate a bar chart of the predicted ion concentrations.\n",
    "\n",
    "### Instructions:\n",
    "\n",
    "1. Adjust the sliders and drop-down menus to select the desired input values.\n",
    "2. Click the **Compute** button to run the simulation.\n",
    "3. The bar chart will display the predicted ion concentrations for different machine learning models.\n",
    "\n",
    "### Notes:\n",
    "\n",
    "- Electrical conductivity (EC) is measured in microsiemens per centimeter (µS/cm).\n",
    "- Sacramento_X2 is the percentage of Sacramento River flow that is estimated to reach the Delta.\n",
    "The exact location of the Sacramento X2 point is determined by the California Department of Water Resources (DWR) based on the specific hydraulic conditions and water flows in the Sacramento River. \n",
    "The DWR uses a combination of hydrological models, flow measurements, and other data to determine the location of the Sacramento X2 point.\n",
    "- The Water Year Type (WYT) is a classification of the water year based on its hydrological characteristics.\n",
    "Water Year Type that includes the following categories: 1- Wet (W), 2- Critical (C), 3- Dry (D), 4- Above-Normal (AN), 5- Below-Normal (BN)\n",
    "- Location refers to monitoring regions that includes: 1- Old-Middle River (OMR), 2- San Joaquin River Corridor (SJRcorridor), and 3- South Delta (SouthDelta).\n",
    "- Month refers to the month of the year.\n",
    "\"\"\")\n",
    "    \n",
    "# Define the layout of the dashboard\n",
    "layout = pn.Column(\n",
    "    instructions,\n",
    "    pn.Row(EC, Sacramento_X2, Ion),\n",
    "    pn.Row(WYT, Location, month),\n",
    "    output_plot\n",
    ")\n",
    "\n",
    "# Define the event to trigger the computation of the ion simulator\n",
    "compute_button = pn.widgets.Button(name='Compute')\n",
    "compute_button.on_click(compute_ion_simulator)\n",
    "\n",
    "# Create the dashboard by combining the layout\n",
    "dashboard = pn.Column(layout, compute_button)\n",
    "\n",
    "# Display the dashboard\n",
    "dashboard.show()\n",
    "#dashboard.servable()\n"
   ]
  }
 ],
 "metadata": {
  "kernelspec": {
   "display_name": "Python 3",
   "language": "python",
   "name": "python3"
  },
  "language_info": {
   "codemirror_mode": {
    "name": "ipython",
    "version": 3
   },
   "file_extension": ".py",
   "mimetype": "text/x-python",
   "name": "python",
   "nbconvert_exporter": "python",
   "pygments_lexer": "ipython3",
   "version": "3.7.12"
  },
  "orig_nbformat": 4
 },
 "nbformat": 4,
 "nbformat_minor": 2
}
